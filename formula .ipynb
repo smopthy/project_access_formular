{
 "cells": [
  {
   "cell_type": "code",
   "execution_count": 210,
   "metadata": {},
   "outputs": [],
   "source": [
    "import pyodbc\n",
    "import pandas as pd \n",
    "import pandas.io.sql\n",
    "import re"
   ]
  },
  {
   "cell_type": "code",
   "execution_count": 211,
   "metadata": {},
   "outputs": [],
   "source": [
    "conn = pyodbc.connect(\n",
    "    'Driver={SQL Server Native Client 10.0};'\n",
    "    'Server=.;'\n",
    "    'Database=gshm_jx;'\n",
    "    'Trusted_Connection=yes;'\n",
    ")\n",
    "#{SQL Server Native Client 10.0} => mssql2008"
   ]
  },
  {
   "cell_type": "code",
   "execution_count": 264,
   "metadata": {},
   "outputs": [],
   "source": [
    "# 取参数表 除存为jx_parameter\n",
    "sql = 'select * from jx_bonus_formular'\n",
    "table = 'jx_formular' \n",
    "df_formular = pd.read_sql(sql, conn)\n",
    "# df_table = pd.read_sql_table(table, conn)"
   ]
  },
  {
   "cell_type": "code",
   "execution_count": 321,
   "metadata": {},
   "outputs": [],
   "source": [
    "# 取参数表 除存为jx_parameter\n",
    "sql = 'select * from jx_parameter'\n",
    "\n",
    "table = 'jx_parameter' \n",
    "df_parameter = pd.read_sql(sql, conn)\n",
    "# df_table = pd.read_sql_table(table, conn)"
   ]
  },
  {
   "cell_type": "code",
   "execution_count": 322,
   "metadata": {},
   "outputs": [],
   "source": [
    "month = '2020-04'\n",
    "data_month ='and data_month =\\'month\\''\n",
    "df_parameter['para_data']=df_parameter['remark']+'and data_month ='+'\\'2020-04\\''\n",
    "df_parameter = df_parameter.dropna(axis = 0, subset = ['remark'] )\n"
   ]
  },
  {
   "cell_type": "code",
   "execution_count": 323,
   "metadata": {},
   "outputs": [],
   "source": [
    "df= pd.DataFrame() \n",
    "listcolum = []\n",
    "df_parameter=df_parameter.reset_index(drop=True)\n",
    "\n",
    "for para in df_parameter['para_data'] : \n",
    "        a = pd.read_sql(para , conn)\n",
    "        df= df.append(a).reset_index(drop=True)\n",
    "\n",
    "df.columns = ['para_value']"
   ]
  },
  {
   "cell_type": "code",
   "execution_count": 324,
   "metadata": {},
   "outputs": [],
   "source": [
    "df_parameter = pd.merge(df_parameter,df,left_index=True, right_index=True, how='outer')"
   ]
  },
  {
   "cell_type": "code",
   "execution_count": 325,
   "metadata": {},
   "outputs": [
    {
     "data": {
      "text/plain": [
       "0      检验科门诊判读费+检验科门诊执行费+检验科住院判读费+检验科住院执行费-(检验科其他成本+检...\n",
       "1      放射科门诊判读费+放射科门诊执行费+放射科住院判读费+放射科住院执行费-(放射科其他成本+放...\n",
       "2      心电图室门诊判读费+心电图室门诊执行费+心电图室住院判读费+心电图室住院执行费-(心电图室其...\n",
       "3      超声科门诊判读费+超声科门诊执行费+超声科住院判读费+超声科住院执行费-(超声科其他成本+超...\n",
       "4      心血管内科病区门诊判读费+心血管内科病区门诊执行费+心血管内科病区住院判读费+心血管内科病区...\n",
       "                             ...                        \n",
       "589    手术麻醉科护理治疗费+手术麻醉科一级手术例数*30+手术麻醉科二级手术例数*40+手术麻醉科...\n",
       "590    药剂科门诊西药药品发药量*0.5+药剂科门诊中药发药量*0.9+药剂科中心药房中药发药量*0...\n",
       "591    口腔科门诊判读费+口腔科门诊执行费+(口腔科门诊耗材收入-口腔科门诊库房耗材成本)*0.2-...\n",
       "592    (口腔科门诊医疗收入-口腔科门诊库房耗材成本)*0.065+口腔科护理治疗费+口腔科护理费+...\n",
       "593    皮肤科门诊判读费+皮肤科门诊执行费+皮肤科门诊护理费+皮肤科门诊护理治疗费+皮肤科门诊人次*...\n",
       "Name: formular, Length: 594, dtype: object"
      ]
     },
     "execution_count": 325,
     "metadata": {},
     "output_type": "execute_result"
    }
   ],
   "source": [
    "df_formular['formular']"
   ]
  },
  {
   "cell_type": "code",
   "execution_count": 451,
   "metadata": {},
   "outputs": [
    {
     "data": {
      "text/plain": [
       "'药剂科门诊西药药品发药量*0.5+药剂科门诊中药发药量*0.9+药剂科中心药房中药发药量*0.7+药剂科中心药房西药发药量*0.35-药剂科其他成本-药剂科不计价成本-药剂科人事费'"
      ]
     },
     "execution_count": 451,
     "metadata": {},
     "output_type": "execute_result"
    }
   ],
   "source": [
    "df_formular_text = df_formular['formular'].iloc[590]\n",
    "df_formular_text"
   ]
  },
  {
   "cell_type": "code",
   "execution_count": 452,
   "metadata": {},
   "outputs": [],
   "source": [
    "text = re.sub(\"[A-Za-z0-9\\!\\%\\[\\]\\,\\。\\+\\-\\*\\)\\(]\", \" \", df_formular_text).split(' ')"
   ]
  },
  {
   "cell_type": "code",
   "execution_count": 456,
   "metadata": {},
   "outputs": [],
   "source": [
    "\n",
    "number = len(text)\n",
    "\n",
    "for i in range(number):\n",
    "    df_parameter_pd = df_parameter[df_parameter['parameter_name'] == text[i]]\n",
    "    df_formula_name = text[i]\n",
    "    df_formula_name\n",
    "    if df_formula_name == ''or df_formula_name == '.':\n",
    "        pass \n",
    "    else :\n",
    "        df_formula_value = df_parameter_pd['para_value'].iloc[0]\n",
    "        df_formular_text = df_formular_text.replace(df_formula_name, str(df_formula_value))\n"
   ]
  },
  {
   "cell_type": "code",
   "execution_count": 457,
   "metadata": {},
   "outputs": [
    {
     "data": {
      "text/plain": [
       "16288.599999999999"
      ]
     },
     "execution_count": 457,
     "metadata": {},
     "output_type": "execute_result"
    }
   ],
   "source": [
    "# df_parameter_pd.head()\n",
    "df_parameter_pd['para_value'].iloc[0]"
   ]
  },
  {
   "cell_type": "code",
   "execution_count": 458,
   "metadata": {},
   "outputs": [
    {
     "data": {
      "text/plain": [
       "16288.599999999999"
      ]
     },
     "execution_count": 458,
     "metadata": {},
     "output_type": "execute_result"
    }
   ],
   "source": [
    "float(df_formula_value)"
   ]
  },
  {
   "cell_type": "code",
   "execution_count": 461,
   "metadata": {},
   "outputs": [
    {
     "data": {
      "text/plain": [
       "61969.71"
      ]
     },
     "execution_count": 461,
     "metadata": {},
     "output_type": "execute_result"
    }
   ],
   "source": [
    "eval(df_formular_text)\n",
    "# df_formular_text\n",
    "# df_formula_name"
   ]
  },
  {
   "cell_type": "code",
   "execution_count": 460,
   "metadata": {},
   "outputs": [
    {
     "name": "stdout",
     "output_type": "stream",
     "text": [
      "21287.0*0.5+13074.0*0.9+22217.0*0.7+141087.0*0.35-4556.69-4527.45-16288.599999999999\n"
     ]
    }
   ],
   "source": [
    "print(df_formular_text)"
   ]
  },
  {
   "cell_type": "code",
   "execution_count": 96,
   "metadata": {},
   "outputs": [
    {
     "data": {
      "text/plain": [
       "'检验科门诊执行费'"
      ]
     },
     "execution_count": 96,
     "metadata": {},
     "output_type": "execute_result"
    }
   ],
   "source": [
    "[]# for i in text:\n",
    "df_formula_name"
   ]
  },
  {
   "cell_type": "code",
   "execution_count": null,
   "metadata": {},
   "outputs": [],
   "source": []
  }
 ],
 "metadata": {
  "kernelspec": {
   "display_name": "Python 3",
   "language": "python",
   "name": "python3"
  },
  "language_info": {
   "codemirror_mode": {
    "name": "ipython",
    "version": 3
   },
   "file_extension": ".py",
   "mimetype": "text/x-python",
   "name": "python",
   "nbconvert_exporter": "python",
   "pygments_lexer": "ipython3",
   "version": "3.7.4"
  }
 },
 "nbformat": 4,
 "nbformat_minor": 2
}
